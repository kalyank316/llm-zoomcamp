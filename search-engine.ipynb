{
 "cells": [
  {
   "cell_type": "code",
   "id": "66d44557-bc0d-43b1-8e4f-1a1973bd554b",
   "metadata": {},
   "source": [
    "import requests \n",
    "\n",
    "docs_url = 'https://github.com/alexeygrigorev/llm-rag-workshop/raw/main/notebooks/documents.json'\n",
    "docs_response = requests.get(docs_url)\n",
    "documents_raw = docs_response.json()\n",
    "\n",
    "documents = []\n",
    "\n",
    "for course in documents_raw:\n",
    "    course_name = course['course']\n",
    "\n",
    "    for doc in course['documents']:\n",
    "        doc['course'] = course_name\n",
    "        documents.append(doc)"
   ],
   "outputs": [],
   "execution_count": null
  },
  {
   "metadata": {},
   "cell_type": "code",
   "source": "print(documents)",
   "id": "ff483b2df93758f0",
   "outputs": [],
   "execution_count": null
  },
  {
   "cell_type": "code",
   "id": "152dc317-118b-46f3-bc2e-5dee4f66c4e0",
   "metadata": {},
   "source": [
    "import pandas as pd"
   ],
   "outputs": [],
   "execution_count": null
  },
  {
   "cell_type": "code",
   "id": "0faa21b7-adbf-44e4-bf02-d38998a12f5c",
   "metadata": {},
   "source": [
    "df = pd.DataFrame(documents, columns=['course', 'section', 'question', 'text'])\n",
    "df.head()"
   ],
   "outputs": [],
   "execution_count": null
  },
  {
   "cell_type": "code",
   "id": "2f9ecbf7-13ce-4a4f-baaf-5ad989bdeb39",
   "metadata": {},
   "source": [
    "df[df.course == 'data-engineering-zoomcamp'].head()"
   ],
   "outputs": [],
   "execution_count": null
  },
  {
   "cell_type": "code",
   "id": "94f4da02-d93a-412f-8a99-3b5d6c23056e",
   "metadata": {},
   "source": [
    "docs_example = [\n",
    "    \"January course details, register now\",\n",
    "    \"Course prerequisites listed in January catalog\",\n",
    "    \"Submit January course homework by end of month\",\n",
    "    \"Register for January course, no prerequisites\",\n",
    "    \"January course setup: Python and Google Cloud\"\n",
    "]"
   ],
   "outputs": [],
   "execution_count": null
  },
  {
   "cell_type": "code",
   "id": "c6f62369-fc0d-484f-abc4-ba846a3a4bb1",
   "metadata": {},
   "source": [
    "from sklearn.feature_extraction.text import CountVectorizer"
   ],
   "outputs": [],
   "execution_count": null
  },
  {
   "cell_type": "code",
   "id": "b51522f4-2e65-42ef-8ccc-310adb032658",
   "metadata": {},
   "source": [
    "cv = CountVectorizer()"
   ],
   "outputs": [],
   "execution_count": null
  },
  {
   "cell_type": "code",
   "id": "d2c5bdbc-aaaa-4da6-b19d-5f9d4fdb7eb5",
   "metadata": {},
   "source": [
    "cv.fit(docs_example)"
   ],
   "outputs": [],
   "execution_count": null
  },
  {
   "cell_type": "code",
   "id": "8041bcfe-0b1b-4c06-ba64-917440f89f6b",
   "metadata": {},
   "source": [
    "names = cv.get_feature_names_out()\n",
    "names"
   ],
   "outputs": [],
   "execution_count": null
  },
  {
   "cell_type": "code",
   "id": "f151c0e0-bfa1-4ea4-9cbd-e3544ebfcb9b",
   "metadata": {},
   "source": [
    "X = cv.transform(docs_example)"
   ],
   "outputs": [],
   "execution_count": null
  },
  {
   "cell_type": "code",
   "id": "061bca2a-4af8-4ccf-82a5-310952a1cab3",
   "metadata": {},
   "source": [
    "X.toarray()"
   ],
   "outputs": [],
   "execution_count": null
  },
  {
   "metadata": {},
   "cell_type": "code",
   "source": [
    "# Set options to display all rows and columns\n",
    "pd.set_option('display.max_rows', None)        # Display all rows\n",
    "pd.set_option('display.max_columns', None)     # Display all columns\n",
    "pd.set_option('display.width', None)           # Disable width wrapping (try None or a large number like 1000)\n",
    "pd.set_option('display.max_colwidth', None)    # Display full column content (no truncation in cells)\n"
   ],
   "id": "e08f3fc510e6f21b",
   "outputs": [],
   "execution_count": null
  },
  {
   "metadata": {},
   "cell_type": "code",
   "source": [
    "df_docs = pd.DataFrame(X.toarray(), columns=names).T\n",
    "df_docs"
   ],
   "id": "11af73f9-96e1-4e3b-b9a1-34fd9c60dc57",
   "outputs": [],
   "execution_count": null
  },
  {
   "cell_type": "code",
   "id": "a9630a4d-797d-45d8-9849-2c4b3c02c249",
   "metadata": {},
   "source": [
    "cv = CountVectorizer(stop_words='english')\n",
    "X = cv.fit_transform(docs_example)\n",
    "\n",
    "names = cv.get_feature_names_out()\n",
    "\n",
    "df_docs = pd.DataFrame(X.toarray(), columns=names).T\n",
    "df_docs"
   ],
   "outputs": [],
   "execution_count": null
  },
  {
   "cell_type": "code",
   "id": "11b9f3d6-5d93-4a29-baf6-4cf8c5cf1d02",
   "metadata": {},
   "source": [
    "from sklearn.feature_extraction.text import TfidfVectorizer"
   ],
   "outputs": [],
   "execution_count": null
  },
  {
   "cell_type": "code",
   "id": "23a63806-bbb3-4238-ad78-11aed2c1c9ff",
   "metadata": {},
   "source": [
    "cv = TfidfVectorizer(stop_words='english')\n",
    "X = cv.fit_transform(docs_example)\n",
    "\n",
    "names = cv.get_feature_names_out()\n",
    "\n",
    "df_docs = pd.DataFrame(X.toarray(), columns=names).T\n",
    "df_docs.round(2)"
   ],
   "outputs": [],
   "execution_count": null
  },
  {
   "cell_type": "code",
   "id": "7c39d3be-281d-4d01-a645-e5a49678f447",
   "metadata": {},
   "source": [
    "query = \"Do I need to know python to sign up for the January course?\""
   ],
   "outputs": [],
   "execution_count": null
  },
  {
   "cell_type": "code",
   "id": "2a0f5f35-b1b4-4e8a-b0af-7b83e8830b89",
   "metadata": {},
   "source": [
    "q = cv.transform([query])\n",
    "q.toarray()"
   ],
   "outputs": [],
   "execution_count": null
  },
  {
   "cell_type": "code",
   "id": "9bb650c2-5ec3-4419-a27c-8db1af022206",
   "metadata": {},
   "source": [
    "query_dict = dict(zip(names, q.toarray()[0]))\n",
    "query_dict"
   ],
   "outputs": [],
   "execution_count": null
  },
  {
   "cell_type": "code",
   "id": "b099d689-1156-4f49-8cfa-4bdda6c60734",
   "metadata": {},
   "source": [
    "doc_dict = dict(zip(names, X.toarray()[1]))\n",
    "doc_dict"
   ],
   "outputs": [],
   "execution_count": null
  },
  {
   "cell_type": "code",
   "id": "8b4600a5-1924-4680-acc9-55b1f34a4547",
   "metadata": {},
   "source": [
    "df_qd = pd.DataFrame([query_dict, doc_dict], index=['query', 'doc']).T"
   ],
   "outputs": [],
   "execution_count": null
  },
  {
   "cell_type": "code",
   "id": "8afb041c-da6f-4f20-b58e-12bc1800c223",
   "metadata": {},
   "source": [
    "(df_qd['query'] * df_qd['doc']).sum()"
   ],
   "outputs": [],
   "execution_count": null
  },
  {
   "cell_type": "code",
   "id": "dbe38cf2-5925-48c1-be6b-4867e63b1731",
   "metadata": {},
   "source": [
    "X.dot(q.T).toarray()"
   ],
   "outputs": [],
   "execution_count": null
  },
  {
   "cell_type": "code",
   "id": "66c49ec8-1ddb-4c77-bbd9-87afd6aaeac6",
   "metadata": {},
   "source": [
    "from sklearn.metrics.pairwise import cosine_similarity"
   ],
   "outputs": [],
   "execution_count": null
  },
  {
   "cell_type": "code",
   "id": "79d49a2a-1e7e-432d-b5fe-cb7d83a7eef0",
   "metadata": {},
   "source": [
    "cosine_similarity(X, q)"
   ],
   "outputs": [],
   "execution_count": null
  },
  {
   "cell_type": "code",
   "source": [
    "df.columns"
   ],
   "metadata": {
    "collapsed": false
   },
   "id": "2e77c501b449eb96",
   "outputs": [],
   "execution_count": null
  },
  {
   "cell_type": "code",
   "source": [
    "fields = ['section', 'question', 'text']\n",
    "transformers = {}\n",
    "matrices = {}\n",
    "\n",
    "for field in fields:\n",
    "    cv = TfidfVectorizer(stop_words='english', min_df=3)\n",
    "    X = cv.fit_transform(df[field])\n",
    "\n",
    "    transformers[field] = cv\n",
    "    matrices[field] = X"
   ],
   "metadata": {
    "collapsed": false
   },
   "id": "4a1a0cbe2543cd99",
   "outputs": [],
   "execution_count": null
  },
  {
   "cell_type": "code",
   "source": [
    "transformers['text'].get_feature_names_out()"
   ],
   "metadata": {
    "collapsed": false
   },
   "id": "e2f74df93ee2e49c",
   "outputs": [],
   "execution_count": null
  },
  {
   "cell_type": "code",
   "source": [
    "matrices['text']"
   ],
   "metadata": {
    "collapsed": false
   },
   "id": "c03aea39445ae9e8",
   "outputs": [],
   "execution_count": null
  },
  {
   "metadata": {},
   "cell_type": "code",
   "source": "query = \"I just signed up. Is it too late to join the course?\"",
   "id": "767dd06e91817dcc",
   "outputs": [],
   "execution_count": null
  },
  {
   "metadata": {},
   "cell_type": "code",
   "source": [
    "q = transformers['text'].transform([query])\n",
    "score = cosine_similarity(matrices['text'], q).flatten()"
   ],
   "id": "7e48c3a96d93e583",
   "outputs": [],
   "execution_count": null
  },
  {
   "cell_type": "code",
   "id": "f35c13cc-ae93-4b64-b6f2-8519f1b1175e",
   "metadata": {},
   "source": [
    "mask = (df.course == 'data-engineering-zoomcamp').values\n",
    "score = score * mask\n",
    "score[:10]"
   ],
   "outputs": [],
   "execution_count": null
  },
  {
   "cell_type": "code",
   "id": "7af8de09-054e-4638-af4d-27eb9335187f",
   "metadata": {},
   "source": [
    "import numpy as np"
   ],
   "outputs": [],
   "execution_count": null
  },
  {
   "cell_type": "code",
   "id": "fd76b3b5-092c-4c4d-b06b-c1a2ea73e032",
   "metadata": {},
   "source": [
    "idx = np.argsort(-score)[:10]\n",
    "idx"
   ],
   "outputs": [],
   "execution_count": null
  },
  {
   "cell_type": "code",
   "id": "92c5e093-18a5-4e07-b1ba-825ae8281144",
   "metadata": {},
   "source": [
    "score[idx]"
   ],
   "outputs": [],
   "execution_count": null
  },
  {
   "cell_type": "code",
   "id": "e1629617-e109-4aeb-a758-42b621665bca",
   "metadata": {},
   "source": [
    "df.iloc[idx].text"
   ],
   "outputs": [],
   "execution_count": null
  },
  {
   "cell_type": "code",
   "id": "070e9bfc-7364-4746-8a13-5429c1e3793f",
   "metadata": {},
   "source": [
    "fields"
   ],
   "outputs": [],
   "execution_count": null
  },
  {
   "cell_type": "code",
   "id": "980555fc-4603-465a-a46c-84efd5464424",
   "metadata": {},
   "source": [],
   "outputs": [],
   "execution_count": null
  },
  {
   "cell_type": "code",
   "id": "39a0f583-7c95-493d-b54e-19737c4e6807",
   "metadata": {},
   "source": "query = \"I just signed up. Is it too late to join the course?\"",
   "outputs": [],
   "execution_count": null
  },
  {
   "cell_type": "code",
   "id": "ecde3950-b575-4837-974f-7353431e3c66",
   "metadata": {},
   "source": [
    "boost = {'question': 3.0}\n",
    "\n",
    "score = np.zeros(len(df))\n",
    "\n",
    "for f in fields:\n",
    "    b = boost.get(f, 1.0)\n",
    "    q = transformers[f].transform([query])\n",
    "    s = cosine_similarity(matrices[f], q).flatten()\n",
    "    score = score + b * s"
   ],
   "outputs": [],
   "execution_count": null
  },
  {
   "cell_type": "code",
   "id": "cb9c27bf-1d0a-4d4d-b26b-ff4f2c7e559e",
   "metadata": {},
   "source": [],
   "outputs": [],
   "execution_count": null
  },
  {
   "cell_type": "code",
   "id": "76926c4a-60c0-4547-a3e9-3ed5c01cc9b4",
   "metadata": {},
   "source": [
    "filters = {\n",
    "    'course': 'data-engineering-zoomcamp'\n",
    "}\n",
    "\n",
    "for field, value in filters.items():\n",
    "    mask = (df[field] == value).values\n",
    "    score = score * mask"
   ],
   "outputs": [],
   "execution_count": null
  },
  {
   "cell_type": "code",
   "id": "53da7a34-8052-48a1-9041-bb0f94416448",
   "metadata": {
    "scrolled": true
   },
   "source": [
    "idx = np.argsort(-score)[:10]\n",
    "results = df.iloc[idx]\n",
    "results.to_dict(orient='records')"
   ],
   "outputs": [],
   "execution_count": null
  },
  {
   "cell_type": "code",
   "id": "e8d96950-a7e5-4b50-870d-ddf472738b92",
   "metadata": {},
   "source": [],
   "outputs": [],
   "execution_count": null
  },
  {
   "cell_type": "code",
   "id": "74ab72b1-47fd-451b-9660-e4df629c4b14",
   "metadata": {},
   "source": [
    "class TextSearch:\n",
    "\n",
    "    def __init__(self, text_fields):\n",
    "        self.text_fields = text_fields\n",
    "        self.matrices = {}\n",
    "        self.vectorizers = {}\n",
    "\n",
    "    def fit(self, records, vectorizer_params={}):\n",
    "        self.df = pd.DataFrame(records)\n",
    "\n",
    "        for f in self.text_fields:\n",
    "            cv = TfidfVectorizer(**vectorizer_params)\n",
    "            X = cv.fit_transform(self.df[f])\n",
    "            self.matrices[f] = X\n",
    "            self.vectorizers[f] = cv\n",
    "\n",
    "    def search(self, query, n_results=10, boost={}, filters={}):\n",
    "        score = np.zeros(len(self.df))\n",
    "\n",
    "        for f in self.text_fields:\n",
    "            b = boost.get(f, 1.0)\n",
    "            q = self.vectorizers[f].transform([query])\n",
    "            s = cosine_similarity(self.matrices[f], q).flatten()\n",
    "            score = score + b * s\n",
    "\n",
    "        for field, value in filters.items():\n",
    "            mask = (self.df[field] == value).values\n",
    "            score = score * mask\n",
    "\n",
    "        idx = np.argsort(-score)[:n_results]\n",
    "        results = self.df.iloc[idx]\n",
    "        return results.to_dict(orient='records')"
   ],
   "outputs": [],
   "execution_count": null
  },
  {
   "cell_type": "code",
   "id": "8fe5e13d-02aa-4f77-862e-70f5b14c8067",
   "metadata": {},
   "source": [
    "fields"
   ],
   "outputs": [],
   "execution_count": null
  },
  {
   "cell_type": "code",
   "id": "db06ee90-31d1-4842-829a-662a812eed17",
   "metadata": {},
   "source": [
    "index = TextSearch(text_fields=['section', 'question', 'text'])"
   ],
   "outputs": [],
   "execution_count": null
  },
  {
   "cell_type": "code",
   "id": "7c3ec354-9382-4fee-94f4-458a5044f019",
   "metadata": {},
   "source": [
    "index.fit(documents)"
   ],
   "outputs": [],
   "execution_count": null
  },
  {
   "cell_type": "code",
   "id": "ecde6ac7-ce80-4b07-b079-55e822f399f7",
   "metadata": {},
   "source": [
    "query"
   ],
   "outputs": [],
   "execution_count": null
  },
  {
   "cell_type": "code",
   "id": "09895ca8-6a96-4e34-90fe-de6a1b117681",
   "metadata": {},
   "source": [
    "index.search(\n",
    "    query='I just signed up. Is it too late to join the course?',\n",
    "    n_results=5,\n",
    "    boost={'question': 3.0},\n",
    "    filters={'course': 'data-engineering-zoomcamp'}\n",
    ")"
   ],
   "outputs": [],
   "execution_count": null
  },
  {
   "cell_type": "code",
   "id": "da26fadb-2e59-451b-86f8-09d5c0547fc4",
   "metadata": {},
   "source": [
    "from sklearn.decomposition import TruncatedSVD"
   ],
   "outputs": [],
   "execution_count": null
  },
  {
   "cell_type": "code",
   "id": "cf7a1601-cdae-4299-b3ad-5fa73964b806",
   "metadata": {},
   "source": [
    "X = matrices['text']\n",
    "cv = transformers['text']"
   ],
   "outputs": [],
   "execution_count": null
  },
  {
   "cell_type": "code",
   "id": "22c13291-b493-480e-9e10-256eedb9c1d1",
   "metadata": {},
   "source": [
    "svd = TruncatedSVD(n_components=16)\n",
    "X_emb = svd.fit_transform(X)"
   ],
   "outputs": [],
   "execution_count": null
  },
  {
   "cell_type": "code",
   "id": "69b68353-1296-43e4-8501-955010f0fc87",
   "metadata": {},
   "source": [
    "X_emb[0]"
   ],
   "outputs": [],
   "execution_count": null
  },
  {
   "cell_type": "code",
   "id": "2600579f-a557-4dde-bc3e-b24afc526ad2",
   "metadata": {},
   "source": [
    "query = 'I just signed up. Is it too late to join the course?'\n",
    "\n",
    "Q = cv.transform([query])\n",
    "Q_emb = svd.transform(Q)"
   ],
   "outputs": [],
   "execution_count": null
  },
  {
   "cell_type": "code",
   "id": "bd4b9419-b36b-45a8-9152-caa31a4761d4",
   "metadata": {},
   "source": [
    "Q_emb[0]"
   ],
   "outputs": [],
   "execution_count": null
  },
  {
   "cell_type": "code",
   "id": "103badbb-881b-46ff-b4ab-302265e190cd",
   "metadata": {},
   "source": [
    "np.dot(X_emb[0], Q_emb[0])"
   ],
   "outputs": [],
   "execution_count": null
  },
  {
   "cell_type": "code",
   "id": "c015d99a-396f-4de6-bd8d-719b30eebbf0",
   "metadata": {},
   "source": [
    "score = cosine_similarity(X_emb, Q_emb).flatten()"
   ],
   "outputs": [],
   "execution_count": null
  },
  {
   "cell_type": "code",
   "id": "53728975-091a-4f59-9ba8-8b3cb97e8c27",
   "metadata": {},
   "source": [
    "idx = np.argsort(-score)[:10]"
   ],
   "outputs": [],
   "execution_count": null
  },
  {
   "cell_type": "code",
   "id": "af6d4f7c-cef3-4c15-8c79-d2041afbf6f4",
   "metadata": {},
   "source": [
    "list(df.loc[idx].text)"
   ],
   "outputs": [],
   "execution_count": null
  },
  {
   "cell_type": "code",
   "id": "b12b1f88-7bb4-4906-a8d0-3ff3bd5f5a0d",
   "metadata": {},
   "source": [
    "from sklearn.decomposition import NMF"
   ],
   "outputs": [],
   "execution_count": null
  },
  {
   "cell_type": "code",
   "id": "66ab8528-e6e3-4191-9425-fbae117c518b",
   "metadata": {},
   "source": [
    "nmf = NMF(n_components=16)\n",
    "X_emb = nmf.fit_transform(X)\n",
    "X_emb[0]"
   ],
   "outputs": [],
   "execution_count": null
  },
  {
   "cell_type": "code",
   "id": "a73571ba-6f8a-4b24-bd97-18ca6eac92ca",
   "metadata": {},
   "source": [
    "Q = cv.transform([query])\n",
    "Q_emb = nmf.transform(Q)\n",
    "Q_emb[0]"
   ],
   "outputs": [],
   "execution_count": null
  },
  {
   "cell_type": "code",
   "id": "77b4efea-db0d-4df5-8408-717ce953ae96",
   "metadata": {},
   "source": [
    "score = cosine_similarity(X_emb, Q_emb).flatten()\n",
    "idx = np.argsort(-score)[:10]\n",
    "list(df.loc[idx].text)"
   ],
   "outputs": [],
   "execution_count": null
  },
  {
   "cell_type": "code",
   "id": "03778f26-e16a-4879-897e-7e15797fc364",
   "metadata": {},
   "source": [
    "import torch\n",
    "from transformers import BertModel, BertTokenizer\n",
    "\n",
    "tokenizer = BertTokenizer.from_pretrained(\"bert-base-uncased\")\n",
    "model = BertModel.from_pretrained(\"bert-base-uncased\")\n",
    "model.eval()  # Set the model to evaluation mode if not training"
   ],
   "outputs": [],
   "execution_count": null
  },
  {
   "cell_type": "code",
   "id": "c7f95191-3b91-4137-ad6c-d6d22c03afa6",
   "metadata": {},
   "source": [
    "texts = [\n",
    "    \"Yes, we will keep all the materials after the course finishes.\",\n",
    "    \"You can follow the course at your own pace after it finishes\"\n",
    "]\n",
    "encoded_input = tokenizer(texts, padding=True, truncation=True, return_tensors='pt')\n"
   ],
   "outputs": [],
   "execution_count": null
  },
  {
   "cell_type": "code",
   "id": "0c51bc5b-3908-42dc-88cc-c07b33a6ddc4",
   "metadata": {},
   "source": [
    "encoded_input"
   ],
   "outputs": [],
   "execution_count": null
  },
  {
   "cell_type": "code",
   "id": "37cbdc75-0916-4360-b1a7-c8d03142398f",
   "metadata": {},
   "source": [
    "with torch.no_grad():  # Disable gradient calculation for inference\n",
    "    outputs = model(**encoded_input)\n",
    "    hidden_states = outputs.last_hidden_state"
   ],
   "outputs": [],
   "execution_count": null
  },
  {
   "cell_type": "code",
   "id": "2e0c208b-d1a6-48d2-9080-130dd2f37f25",
   "metadata": {},
   "source": [
    "hidden_states.shape"
   ],
   "outputs": [],
   "execution_count": null
  },
  {
   "cell_type": "code",
   "id": "47fc911c-5ed7-4a97-86bd-b4bc2e311214",
   "metadata": {},
   "source": [
    "sentence_embeddings = hidden_states.mean(dim=1)\n",
    "sentence_embeddings.shape"
   ],
   "outputs": [],
   "execution_count": null
  },
  {
   "cell_type": "code",
   "id": "3dbe88f8-d39f-4b22-8f17-4d911c14e185",
   "metadata": {},
   "source": [
    "sentence_embeddings.numpy()\n",
    "\n",
    "# note that if use a GPU, first you need to move your tensors to CPU\n",
    "# sentence_embeddings_cpu = sentence_embeddings.cpu()"
   ],
   "outputs": [],
   "execution_count": null
  },
  {
   "cell_type": "code",
   "id": "032e6145-bf8d-4ccf-a592-0bf82c5822f0",
   "metadata": {},
   "source": [
    "def make_batches(seq, n):\n",
    "    result = []\n",
    "    for i in range(0, len(seq), n):\n",
    "        batch = seq[i:i+n]\n",
    "        result.append(batch)\n",
    "    return result"
   ],
   "outputs": [],
   "execution_count": null
  },
  {
   "cell_type": "code",
   "id": "4d013583-f000-4c1c-88e4-b05dc5f91504",
   "metadata": {},
   "source": [
    "from tqdm.auto import tqdm"
   ],
   "outputs": [],
   "execution_count": null
  },
  {
   "cell_type": "code",
   "id": "57853a2c-2d45-460d-b929-6f6b564ed55b",
   "metadata": {},
   "source": [
    "def compute_embeddings(texts, batch_size=8):\n",
    "    text_batches = make_batches(texts, 8)\n",
    "    \n",
    "    all_embeddings = []\n",
    "    \n",
    "    for batch in tqdm(text_batches):\n",
    "        encoded_input = tokenizer(batch, padding=True, truncation=True, return_tensors='pt')\n",
    "    \n",
    "        with torch.no_grad():\n",
    "            outputs = model(**encoded_input)\n",
    "            hidden_states = outputs.last_hidden_state\n",
    "            \n",
    "            batch_embeddings = hidden_states.mean(dim=1)\n",
    "            batch_embeddings_np = batch_embeddings.cpu().numpy()\n",
    "            all_embeddings.append(batch_embeddings_np)\n",
    "    \n",
    "    final_embeddings = np.vstack(all_embeddings)\n",
    "    return final_embeddings"
   ],
   "outputs": [],
   "execution_count": null
  },
  {
   "cell_type": "code",
   "id": "ba794951-7869-407c-a790-ae75419ca294",
   "metadata": {},
   "source": [
    "embeddings = {}"
   ],
   "outputs": [],
   "execution_count": null
  },
  {
   "cell_type": "code",
   "id": "71b79a56-3361-401b-a734-34088dee1833",
   "metadata": {},
   "source": [],
   "outputs": [],
   "execution_count": null
  },
  {
   "cell_type": "code",
   "id": "20357dc1-3fd1-4b0e-a476-88ce433e347a",
   "metadata": {},
   "source": [
    "# fields = ['section', 'question', 'text']\n",
    "\n",
    "for f in fields:\n",
    "    print(f'computing embeddings for {f}...')\n",
    "    embeddings[f] = compute_embeddings(df[f].tolist())"
   ],
   "outputs": [],
   "execution_count": null
  },
  {
   "cell_type": "code",
   "id": "e30cf0c0-0522-411c-8e6f-3368aafd84e5",
   "metadata": {},
   "source": [
    "import pickle"
   ],
   "outputs": [],
   "execution_count": null
  },
  {
   "cell_type": "code",
   "id": "eb3fbe18-b993-4d03-890f-0a9f37ad11d6",
   "metadata": {},
   "source": [
    "with open('embeddings.bin', 'wb') as f_out:\n",
    "    pickle.dump(embeddings, f_out)"
   ],
   "outputs": [],
   "execution_count": null
  },
  {
   "cell_type": "code",
   "id": "8fe22344-e0f9-40c4-8d51-9e88c79417af",
   "metadata": {},
   "source": [],
   "outputs": [],
   "execution_count": null
  }
 ],
 "metadata": {
  "kernelspec": {
   "display_name": "Python 3 (ipykernel)",
   "language": "python",
   "name": "python3"
  },
  "language_info": {
   "codemirror_mode": {
    "name": "ipython",
    "version": 3
   },
   "file_extension": ".py",
   "mimetype": "text/x-python",
   "name": "python",
   "nbconvert_exporter": "python",
   "pygments_lexer": "ipython3",
   "version": "3.10.13"
  }
 },
 "nbformat": 4,
 "nbformat_minor": 5
}
