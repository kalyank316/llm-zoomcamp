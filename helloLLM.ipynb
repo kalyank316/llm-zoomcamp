{
 "cells": [
  {
   "cell_type": "code",
   "id": "initial_id",
   "metadata": {
    "collapsed": true,
    "ExecuteTime": {
     "end_time": "2025-06-14T13:28:40.472797Z",
     "start_time": "2025-06-14T13:28:40.469300Z"
    }
   },
   "source": [
    "import sys\n",
    "print(sys.executable)\n",
    "print(sys.version)"
   ],
   "outputs": [
    {
     "name": "stdout",
     "output_type": "stream",
     "text": [
      "/opt/anaconda3/envs/llm-zoomcamp/bin/python\n",
      "3.12.11 | packaged by Anaconda, Inc. | (main, Jun  5 2025, 08:03:38) [Clang 14.0.6 ]\n"
     ]
    }
   ],
   "execution_count": 31
  },
  {
   "metadata": {
    "ExecuteTime": {
     "end_time": "2025-06-14T13:28:40.490491Z",
     "start_time": "2025-06-14T13:28:40.488134Z"
    }
   },
   "cell_type": "code",
   "source": "import openai",
   "id": "718796102056237",
   "outputs": [],
   "execution_count": 32
  },
  {
   "metadata": {
    "ExecuteTime": {
     "end_time": "2025-06-14T13:28:40.499356Z",
     "start_time": "2025-06-14T13:28:40.497810Z"
    }
   },
   "cell_type": "code",
   "source": "from openai import OpenAI",
   "id": "5157128704c238db",
   "outputs": [],
   "execution_count": 33
  },
  {
   "metadata": {
    "ExecuteTime": {
     "end_time": "2025-06-14T13:28:40.507064Z",
     "start_time": "2025-06-14T13:28:40.504965Z"
    }
   },
   "cell_type": "code",
   "source": "import os",
   "id": "36f6df38743fc726",
   "outputs": [],
   "execution_count": 34
  },
  {
   "metadata": {
    "ExecuteTime": {
     "end_time": "2025-06-14T13:28:40.514348Z",
     "start_time": "2025-06-14T13:28:40.512901Z"
    }
   },
   "cell_type": "code",
   "source": "#os.environ",
   "id": "6c9931d6fa8d29fd",
   "outputs": [],
   "execution_count": 35
  },
  {
   "metadata": {
    "ExecuteTime": {
     "end_time": "2025-06-14T13:28:40.521448Z",
     "start_time": "2025-06-14T13:28:40.519912Z"
    }
   },
   "cell_type": "code",
   "source": "#api_key = os.environ.get(\"OPENAI_API_KEY\")",
   "id": "a3b68c9bd7030bba",
   "outputs": [],
   "execution_count": 36
  },
  {
   "metadata": {
    "ExecuteTime": {
     "end_time": "2025-06-14T13:28:40.541368Z",
     "start_time": "2025-06-14T13:28:40.526783Z"
    }
   },
   "cell_type": "code",
   "source": [
    "# Define the path to your API key file\n",
    "# It's good practice to keep this file outside your project's version control (e.g., in .gitignore)\n",
    "api_key_file_path = \"openai_api_key.txt\" # Or a path like 'config/api_key.txt'\n",
    "\n",
    "api_key = None # Initialize api_key\n",
    "\n",
    "try:\n",
    "    with open(api_key_file_path, 'r') as f:\n",
    "        api_key = f.read().strip() # Read the key and remove any leading/trailing whitespace\n",
    "except FileNotFoundError:\n",
    "    print(f\"Warning: API key file not found at {api_key_file_path}. Checking environment variable instead.\")\n",
    "    # Fallback to environment variable if the file isn't found\n",
    "    api_key = os.environ.get(\"OPENAI_API_KEY\")\n",
    "except Exception as e:\n",
    "    raise IOError(f\"Error reading API key from file {api_key_file_path}: {e}\")\n",
    "\n",
    "# Check if the API key was found either from file or environment variable\n",
    "if api_key is None:\n",
    "    raise ValueError(\"OPENAI_API_KEY not found. Please set it in 'openai_api_key.txt' or as an environment variable.\")\n",
    "\n",
    "# Initialize the OpenAI client with the fetched key\n",
    "client = OpenAI(api_key=api_key)\n",
    "\n",
    "print(\"OpenAI client initialized.\")"
   ],
   "id": "2ca1da636e39ab15",
   "outputs": [
    {
     "name": "stdout",
     "output_type": "stream",
     "text": [
      "OpenAI client initialized.\n"
     ]
    }
   ],
   "execution_count": 37
  },
  {
   "metadata": {
    "ExecuteTime": {
     "end_time": "2025-06-14T13:28:44.600414Z",
     "start_time": "2025-06-14T13:28:40.552371Z"
    }
   },
   "cell_type": "code",
   "source": [
    "response = client.chat.completions.create(\n",
    "    model='gpt-4o',\n",
    "    messages=[{\"role\": \"user\", \"content\": \"is it too late to join the course?\" }]\n",
    ")"
   ],
   "id": "5fe8e3e5b816e07d",
   "outputs": [],
   "execution_count": 38
  },
  {
   "metadata": {
    "ExecuteTime": {
     "end_time": "2025-06-14T13:28:44.623553Z",
     "start_time": "2025-06-14T13:28:44.619950Z"
    }
   },
   "cell_type": "code",
   "source": "response.choices[0].message.content",
   "id": "198c76fb44e6b146",
   "outputs": [
    {
     "data": {
      "text/plain": [
       "\"To determine if it's too late to join a course, you'll need to consider several factors:\\n\\n1. **Enrollment Deadlines:** Check if the course you're interested in has an enrollment deadline and whether that date has passed.\\n\\n2. **Course Start Date:** Verify if the course has already started and, if so, how far along it is. Some courses may allow late enrollment with time to catch up, while others may not.\\n\\n3. **Instructor/Institution Policies:** Contact the instructor or institution offering the course to ask about their policy on late enrollment.\\n\\n4. **Content Structure:** Consider whether the course has a flexible structure, such as a self-paced or online course, which might allow for late enrollment.\\n\\n5. **Availability of Materials:** Determine if you can access recordings or materials for past sessions to catch up if necessary.\\n\\nIf you've checked the above and still have questions, it's best to reach out directly to the course provider for clarification.\""
      ]
     },
     "execution_count": 39,
     "metadata": {},
     "output_type": "execute_result"
    }
   ],
   "execution_count": 39
  },
  {
   "metadata": {
    "ExecuteTime": {
     "end_time": "2025-06-14T13:28:44.634720Z",
     "start_time": "2025-06-14T13:28:44.633386Z"
    }
   },
   "cell_type": "code",
   "source": "",
   "id": "5a8141da591d01bc",
   "outputs": [],
   "execution_count": null
  }
 ],
 "metadata": {
  "kernelspec": {
   "display_name": "Python 3",
   "language": "python",
   "name": "python3"
  },
  "language_info": {
   "codemirror_mode": {
    "name": "ipython",
    "version": 2
   },
   "file_extension": ".py",
   "mimetype": "text/x-python",
   "name": "python",
   "nbconvert_exporter": "python",
   "pygments_lexer": "ipython2",
   "version": "2.7.6"
  }
 },
 "nbformat": 4,
 "nbformat_minor": 5
}
