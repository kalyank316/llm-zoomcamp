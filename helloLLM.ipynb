{
 "cells": [
  {
   "cell_type": "code",
   "id": "initial_id",
   "metadata": {
    "collapsed": true,
    "ExecuteTime": {
     "end_time": "2025-06-14T13:31:39.705488Z",
     "start_time": "2025-06-14T13:31:39.700588Z"
    }
   },
   "source": [
    "import sys\n",
    "print(sys.executable)\n",
    "print(sys.version)"
   ],
   "outputs": [
    {
     "name": "stdout",
     "output_type": "stream",
     "text": [
      "/opt/anaconda3/envs/llm-zoomcamp/bin/python\n",
      "3.12.11 | packaged by Anaconda, Inc. | (main, Jun  5 2025, 08:03:38) [Clang 14.0.6 ]\n"
     ]
    }
   ],
   "execution_count": 40
  },
  {
   "metadata": {
    "ExecuteTime": {
     "end_time": "2025-06-14T13:31:39.721185Z",
     "start_time": "2025-06-14T13:31:39.719315Z"
    }
   },
   "cell_type": "code",
   "source": "import openai",
   "id": "718796102056237",
   "outputs": [],
   "execution_count": 41
  },
  {
   "metadata": {
    "ExecuteTime": {
     "end_time": "2025-06-14T13:31:39.728421Z",
     "start_time": "2025-06-14T13:31:39.726987Z"
    }
   },
   "cell_type": "code",
   "source": "from openai import OpenAI",
   "id": "5157128704c238db",
   "outputs": [],
   "execution_count": 42
  },
  {
   "metadata": {
    "ExecuteTime": {
     "end_time": "2025-06-14T13:31:39.735255Z",
     "start_time": "2025-06-14T13:31:39.733773Z"
    }
   },
   "cell_type": "code",
   "source": "import os",
   "id": "36f6df38743fc726",
   "outputs": [],
   "execution_count": 43
  },
  {
   "metadata": {
    "ExecuteTime": {
     "end_time": "2025-06-14T13:31:39.742065Z",
     "start_time": "2025-06-14T13:31:39.740652Z"
    }
   },
   "cell_type": "code",
   "source": "#os.environ",
   "id": "6c9931d6fa8d29fd",
   "outputs": [],
   "execution_count": 44
  },
  {
   "metadata": {
    "ExecuteTime": {
     "end_time": "2025-06-14T13:31:39.748567Z",
     "start_time": "2025-06-14T13:31:39.746781Z"
    }
   },
   "cell_type": "code",
   "source": "#api_key = os.environ.get(\"OPENAI_API_KEY\")",
   "id": "a3b68c9bd7030bba",
   "outputs": [],
   "execution_count": 45
  },
  {
   "metadata": {
    "ExecuteTime": {
     "end_time": "2025-06-14T13:31:39.770326Z",
     "start_time": "2025-06-14T13:31:39.753799Z"
    }
   },
   "cell_type": "code",
   "source": [
    "# Define the path to your API key file\n",
    "# It's good practice to keep this file outside your project's version control (e.g., in .gitignore)\n",
    "api_key_file_path = \"openai_api_key.txt\" # Or a path like 'config/api_key.txt'\n",
    "\n",
    "api_key = None # Initialize api_key\n",
    "\n",
    "try:\n",
    "    with open(api_key_file_path, 'r') as f:\n",
    "        api_key = f.read().strip() # Read the key and remove any leading/trailing whitespace\n",
    "except FileNotFoundError:\n",
    "    print(f\"Warning: API key file not found at {api_key_file_path}. Checking environment variable instead.\")\n",
    "    # Fallback to environment variable if the file isn't found\n",
    "    api_key = os.environ.get(\"OPENAI_API_KEY\")\n",
    "except Exception as e:\n",
    "    raise IOError(f\"Error reading API key from file {api_key_file_path}: {e}\")\n",
    "\n",
    "# Check if the API key was found either from file or environment variable\n",
    "if api_key is None:\n",
    "    raise ValueError(\"OPENAI_API_KEY not found. Please set it in 'openai_api_key.txt' or as an environment variable.\")\n",
    "\n",
    "# Initialize the OpenAI client with the fetched key\n",
    "client = OpenAI(api_key=api_key)\n",
    "\n",
    "print(\"OpenAI client initialized.\")"
   ],
   "id": "2ca1da636e39ab15",
   "outputs": [
    {
     "name": "stdout",
     "output_type": "stream",
     "text": [
      "OpenAI client initialized.\n"
     ]
    }
   ],
   "execution_count": 46
  },
  {
   "metadata": {
    "ExecuteTime": {
     "end_time": "2025-06-14T13:31:39.778124Z",
     "start_time": "2025-06-14T13:31:39.776494Z"
    }
   },
   "cell_type": "code",
   "source": "query = \"what is the current time?\"",
   "id": "8e08dac64e4f2706",
   "outputs": [],
   "execution_count": 47
  },
  {
   "metadata": {
    "ExecuteTime": {
     "end_time": "2025-06-14T13:31:41.144640Z",
     "start_time": "2025-06-14T13:31:39.790285Z"
    }
   },
   "cell_type": "code",
   "source": [
    "response = client.chat.completions.create(\n",
    "    model='gpt-4o',\n",
    "    messages=[{\"role\": \"user\", \"content\": query }]\n",
    ")"
   ],
   "id": "5fe8e3e5b816e07d",
   "outputs": [],
   "execution_count": 48
  },
  {
   "metadata": {
    "ExecuteTime": {
     "end_time": "2025-06-14T13:31:41.165320Z",
     "start_time": "2025-06-14T13:31:41.160952Z"
    }
   },
   "cell_type": "code",
   "source": "response.choices[0].message.content",
   "id": "198c76fb44e6b146",
   "outputs": [
    {
     "data": {
      "text/plain": [
       "\"I'm unable to provide real-time information or current updates. You can check the current time on your device or through a search engine.\""
      ]
     },
     "execution_count": 49,
     "metadata": {},
     "output_type": "execute_result"
    }
   ],
   "execution_count": 49
  },
  {
   "metadata": {
    "ExecuteTime": {
     "end_time": "2025-06-14T13:31:41.177239Z",
     "start_time": "2025-06-14T13:31:41.175662Z"
    }
   },
   "cell_type": "code",
   "source": "",
   "id": "5a8141da591d01bc",
   "outputs": [],
   "execution_count": null
  }
 ],
 "metadata": {
  "kernelspec": {
   "display_name": "Python 3",
   "language": "python",
   "name": "python3"
  },
  "language_info": {
   "codemirror_mode": {
    "name": "ipython",
    "version": 2
   },
   "file_extension": ".py",
   "mimetype": "text/x-python",
   "name": "python",
   "nbconvert_exporter": "python",
   "pygments_lexer": "ipython2",
   "version": "2.7.6"
  }
 },
 "nbformat": 4,
 "nbformat_minor": 5
}
