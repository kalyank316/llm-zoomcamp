{
 "cells": [
  {
   "cell_type": "code",
   "id": "initial_id",
   "metadata": {
    "collapsed": true,
    "ExecuteTime": {
     "end_time": "2025-06-15T13:20:53.061141Z",
     "start_time": "2025-06-15T13:20:51.572706Z"
    }
   },
   "source": [
    "import requests\n",
    "\n",
    "docs_url = 'https://github.com/DataTalksClub/llm-zoomcamp/blob/main/01-intro/documents.json?raw=1'\n",
    "docs_response = requests.get(docs_url)\n",
    "documents_raw = docs_response.json()\n",
    "\n",
    "documents = []\n",
    "\n",
    "for course in documents_raw:\n",
    "    course_name = course['course']\n",
    "\n",
    "    for doc in course['documents']:\n",
    "        doc['course'] = course_name\n",
    "        documents.append(doc)"
   ],
   "outputs": [],
   "execution_count": 1
  },
  {
   "metadata": {
    "ExecuteTime": {
     "end_time": "2025-06-15T13:20:55.147390Z",
     "start_time": "2025-06-15T13:20:55.081178Z"
    }
   },
   "cell_type": "code",
   "source": "from elasticsearch import Elasticsearch",
   "id": "cdb84b7d22535151",
   "outputs": [],
   "execution_count": 2
  },
  {
   "metadata": {
    "ExecuteTime": {
     "end_time": "2025-06-15T13:20:57.555254Z",
     "start_time": "2025-06-15T13:20:57.551057Z"
    }
   },
   "cell_type": "code",
   "source": "es_client = Elasticsearch('http://localhost:9200')",
   "id": "85d26b5206ef6313",
   "outputs": [],
   "execution_count": 3
  },
  {
   "metadata": {
    "ExecuteTime": {
     "end_time": "2025-06-15T13:36:49.135951Z",
     "start_time": "2025-06-15T13:36:49.131574Z"
    }
   },
   "cell_type": "code",
   "source": "# **Question1**",
   "id": "836bfd830406df13",
   "outputs": [],
   "execution_count": 36
  },
  {
   "metadata": {
    "ExecuteTime": {
     "end_time": "2025-06-15T13:21:02.433589Z",
     "start_time": "2025-06-15T13:21:02.404996Z"
    }
   },
   "cell_type": "code",
   "source": "es_client.info()",
   "id": "42165805f0e70dcf",
   "outputs": [
    {
     "data": {
      "text/plain": [
       "ObjectApiResponse({'name': '802504b82092', 'cluster_name': 'docker-cluster', 'cluster_uuid': 'c2cWCbSnTyiG3Ad_xJuwnw', 'version': {'number': '8.4.3', 'build_flavor': 'default', 'build_type': 'docker', 'build_hash': '42f05b9372a9a4a470db3b52817899b99a76ee73', 'build_date': '2022-10-04T07:17:24.662462378Z', 'build_snapshot': False, 'lucene_version': '9.3.0', 'minimum_wire_compatibility_version': '7.17.0', 'minimum_index_compatibility_version': '7.0.0'}, 'tagline': 'You Know, for Search'})"
      ]
     },
     "execution_count": 5,
     "metadata": {},
     "output_type": "execute_result"
    }
   ],
   "execution_count": 5
  },
  {
   "metadata": {
    "ExecuteTime": {
     "end_time": "2025-06-15T13:36:50.526003Z",
     "start_time": "2025-06-15T13:36:50.522826Z"
    }
   },
   "cell_type": "code",
   "source": "# **Question2**",
   "id": "54ebd3b76df0761d",
   "outputs": [],
   "execution_count": 37
  },
  {
   "metadata": {
    "ExecuteTime": {
     "end_time": "2025-06-15T13:21:07.313536Z",
     "start_time": "2025-06-15T13:21:07.310684Z"
    }
   },
   "cell_type": "code",
   "source": [
    "# index_settings = {\n",
    "#     \"settings\": {\n",
    "#         \"number_of_shards\": 1,\n",
    "#         \"number_of_replicas\": 0\n",
    "#     },\n",
    "#     \"mappings\": {\n",
    "#         \"properties\": {\n",
    "#             \"text\": {\"type\": \"text\"},\n",
    "#             \"section\": {\"type\": \"text\"},\n",
    "#             \"question\": {\"type\": \"text\"},\n",
    "#             \"course\": {\"type\": \"keyword\"}\n",
    "#         }\n",
    "#     }\n",
    "# }\n",
    "#\n",
    "# index_name = \"course-questions\"\n",
    "#\n",
    "# es_client.indices.create(index=index_name, body=index_settings)\n"
   ],
   "id": "837f1daf0799b985",
   "outputs": [],
   "execution_count": 7
  },
  {
   "metadata": {
    "ExecuteTime": {
     "end_time": "2025-06-15T13:21:18.533288Z",
     "start_time": "2025-06-15T13:21:18.428052Z"
    }
   },
   "cell_type": "code",
   "source": [
    "index_name = \"course-questions\"\n",
    "\n",
    "# Check if the index exists and delete it if it does\n",
    "if es_client.indices.exists(index=index_name):\n",
    "    print(f\"Deleting existing index: {index_name}\")\n",
    "    es_client.indices.delete(index=index_name)\n",
    "    print(f\"Index {index_name} deleted.\")\n",
    "\n",
    "index_settings = {\n",
    "    \"settings\": {\n",
    "        \"number_of_shards\": 1,\n",
    "        \"number_of_replicas\": 0\n",
    "    },\n",
    "    \"mappings\": {\n",
    "        \"properties\": {\n",
    "            \"text\": {\"type\": \"text\"},\n",
    "            \"section\": {\"type\": \"text\"},\n",
    "            \"question\": {\"type\": \"text\"},\n",
    "            \"course\": {\"type\": \"keyword\"}\n",
    "        }\n",
    "    }\n",
    "}\n",
    "\n",
    "print(f\"Creating index: {index_name}\")\n",
    "es_client.indices.create(index=index_name, body=index_settings)\n",
    "print(f\"Index {index_name} created successfully.\")"
   ],
   "id": "b7ae6c81d3749dc0",
   "outputs": [
    {
     "name": "stdout",
     "output_type": "stream",
     "text": [
      "Creating index: course-questions\n",
      "Index course-questions created successfully.\n"
     ]
    }
   ],
   "execution_count": 8
  },
  {
   "metadata": {
    "ExecuteTime": {
     "end_time": "2025-06-15T13:21:33.155829Z",
     "start_time": "2025-06-15T13:21:33.120664Z"
    }
   },
   "cell_type": "code",
   "source": "from tqdm.auto import tqdm",
   "id": "c7fa87c1495ca7c3",
   "outputs": [],
   "execution_count": 9
  },
  {
   "metadata": {
    "ExecuteTime": {
     "end_time": "2025-06-15T13:21:39.663549Z",
     "start_time": "2025-06-15T13:21:37.981469Z"
    }
   },
   "cell_type": "code",
   "source": [
    "for doc in tqdm(documents):\n",
    "    es_client.index(index=index_name, document=doc)"
   ],
   "id": "6e0039ce6b48b62a",
   "outputs": [
    {
     "data": {
      "text/plain": [
       "  0%|          | 0/948 [00:00<?, ?it/s]"
      ],
      "application/vnd.jupyter.widget-view+json": {
       "version_major": 2,
       "version_minor": 0,
       "model_id": "6ddd97f712d349bfb2c8ef383e5293c9"
      }
     },
     "metadata": {},
     "output_type": "display_data"
    }
   ],
   "execution_count": 10
  },
  {
   "metadata": {
    "ExecuteTime": {
     "end_time": "2025-06-15T13:37:00.225417Z",
     "start_time": "2025-06-15T13:37:00.222345Z"
    }
   },
   "cell_type": "code",
   "source": "# **Question3**",
   "id": "19aecb31eadb7d92",
   "outputs": [],
   "execution_count": 38
  },
  {
   "metadata": {
    "ExecuteTime": {
     "end_time": "2025-06-15T13:21:48.524978Z",
     "start_time": "2025-06-15T13:21:48.521823Z"
    }
   },
   "cell_type": "code",
   "source": "query_q3 = 'How do execute a command on a Kubernetes pod?'",
   "id": "da7a8941ac369e80",
   "outputs": [],
   "execution_count": 12
  },
  {
   "metadata": {
    "ExecuteTime": {
     "end_time": "2025-06-15T13:22:27.379630Z",
     "start_time": "2025-06-15T13:22:27.375926Z"
    }
   },
   "cell_type": "code",
   "source": [
    "search_query_q3 = {\n",
    "    \"size\": 5,\n",
    "    \"query\": {\n",
    "        \"bool\": {\n",
    "            \"must\": {\n",
    "                \"multi_match\": {\n",
    "                    \"query\": query_q3,\n",
    "                    \"fields\": [\"question^4\", \"text\"],\n",
    "                    \"type\": \"best_fields\"\n",
    "                }\n",
    "            },\n",
    "        }\n",
    "    }\n",
    "}"
   ],
   "id": "86992bf0e9475dc5",
   "outputs": [],
   "execution_count": 14
  },
  {
   "metadata": {
    "ExecuteTime": {
     "end_time": "2025-06-15T13:22:35.480883Z",
     "start_time": "2025-06-15T13:22:35.415629Z"
    }
   },
   "cell_type": "code",
   "source": "response_q3 = es_client.search(index=index_name, body=search_query_q3)",
   "id": "cbadcc637bac85d7",
   "outputs": [],
   "execution_count": 15
  },
  {
   "metadata": {
    "ExecuteTime": {
     "end_time": "2025-06-15T13:22:37.325361Z",
     "start_time": "2025-06-15T13:22:37.319776Z"
    }
   },
   "cell_type": "code",
   "source": [
    "results_docs_q3_source = []\n",
    "\n",
    "for hit in response_q3['hits']['hits']:\n",
    "    results_docs_q3_source.append(hit['_source'])\n",
    "\n",
    "results_docs_q3_source"
   ],
   "id": "75b55c85fb269f53",
   "outputs": [
    {
     "data": {
      "text/plain": [
       "[{'text': 'Launch the container image in interactive mode and overriding the entrypoint, so that it starts a bash command.\\ndocker run -it --entrypoint bash <image>\\nIf the container is already running, execute a command in the specific container:\\ndocker ps (find the container-id)\\ndocker exec -it <container-id> bash\\n(Marcos MJD)',\n",
       "  'section': '5. Deploying Machine Learning Models',\n",
       "  'question': 'How do I debug a docker container?',\n",
       "  'course': 'machine-learning-zoomcamp'},\n",
       " {'text': 'Deploy and Access the Kubernetes Dashboard\\nLuke',\n",
       "  'section': '10. Kubernetes and TensorFlow Serving',\n",
       "  'question': 'Kubernetes-dashboard',\n",
       "  'course': 'machine-learning-zoomcamp'},\n",
       " {'text': 'You can copy files from your local machine into a Docker container using the docker cp command. Here\\'s how to do it:\\nIn the Dockerfile, you can provide the folder containing the files that you want to copy over. The basic syntax is as follows:\\nCOPY [\"src/predict.py\", \"models/xgb_model.bin\", \"./\"]\\t\\t\\t\\t\\t\\t\\t\\t\\t\\t\\tGopakumar Gopinathan',\n",
       "  'section': '5. Deploying Machine Learning Models',\n",
       "  'question': 'How do I copy files from a different folder into docker container’s working directory?',\n",
       "  'course': 'machine-learning-zoomcamp'},\n",
       " {'text': 'Problem description:\\nI started a web-server in terminal (command window, powershell, etc.). How can I run another python script, which makes a request to this server?\\nSolution description:\\nJust open another terminal (command window, powershell, etc.) and run a python script.\\nAlena Kniazeva',\n",
       "  'section': '5. Deploying Machine Learning Models',\n",
       "  'question': 'How to run a script while a web-server is working?',\n",
       "  'course': 'machine-learning-zoomcamp'},\n",
       " {'text': \"Matplotlib has a cool method to annotate where you could provide an X,Y point and annotate with an arrow and text. For example this will show an arrow pointing to the x,y point optimal threshold.\\nplt.annotate(f'Optimal Threshold: {optimal_threshold:.2f}\\\\nOptimal F1 Score: {optimal_f1_score:.2f}',\\nxy=(optimal_threshold, optimal_f1_score),\\nxytext=(0.3, 0.5),\\ntextcoords='axes fraction',\\narrowprops=dict(facecolor='black', shrink=0.05))\\nQuinn Avila\",\n",
       "  'section': '4. Evaluation Metrics for Classification',\n",
       "  'question': 'How can I annotate a graph?',\n",
       "  'course': 'machine-learning-zoomcamp'}]"
      ]
     },
     "execution_count": 16,
     "metadata": {},
     "output_type": "execute_result"
    }
   ],
   "execution_count": 16
  },
  {
   "metadata": {
    "ExecuteTime": {
     "end_time": "2025-06-15T13:22:42.474743Z",
     "start_time": "2025-06-15T13:22:42.470880Z"
    }
   },
   "cell_type": "code",
   "source": [
    "results_docs_q3_score = []\n",
    "\n",
    "for hit in response_q3['hits']['hits']:\n",
    "    results_docs_q3_score.append(hit['_score'])\n",
    "\n",
    "results_docs_q3_score"
   ],
   "id": "820cb0ce1665906",
   "outputs": [
    {
     "data": {
      "text/plain": [
       "[44.50556, 35.433445, 33.70974, 33.2635, 32.589073]"
      ]
     },
     "execution_count": 17,
     "metadata": {},
     "output_type": "execute_result"
    }
   ],
   "execution_count": 17
  },
  {
   "metadata": {
    "ExecuteTime": {
     "end_time": "2025-06-15T13:37:09.869530Z",
     "start_time": "2025-06-15T13:37:09.865781Z"
    }
   },
   "cell_type": "code",
   "source": "# **Question4**",
   "id": "7a22ba912340595d",
   "outputs": [],
   "execution_count": 39
  },
  {
   "metadata": {
    "ExecuteTime": {
     "end_time": "2025-06-15T13:22:52.404481Z",
     "start_time": "2025-06-15T13:22:52.401574Z"
    }
   },
   "cell_type": "code",
   "source": "query_q4 = 'How do copy a file to a Docker container?'",
   "id": "6178a8b02bfdec2e",
   "outputs": [],
   "execution_count": 19
  },
  {
   "metadata": {
    "ExecuteTime": {
     "end_time": "2025-06-15T13:23:15.995458Z",
     "start_time": "2025-06-15T13:23:15.990785Z"
    }
   },
   "cell_type": "code",
   "source": [
    "search_query_q4 = {\n",
    "    \"size\": 5,\n",
    "    \"query\": {\n",
    "        \"bool\": {\n",
    "            \"must\": {\n",
    "                \"multi_match\": {\n",
    "                    \"query\": query_q4,\n",
    "                    \"fields\": [\"question^4\", \"text\", \"section\"],\n",
    "                    \"type\": \"best_fields\"\n",
    "                }\n",
    "            },\n",
    "            \"filter\": {\n",
    "                \"term\": {\n",
    "                    \"course\": \"machine-learning-zoomcamp\"\n",
    "                }\n",
    "            }\n",
    "        }\n",
    "    }\n",
    "}"
   ],
   "id": "b02b10de25d376ec",
   "outputs": [],
   "execution_count": 20
  },
  {
   "metadata": {
    "ExecuteTime": {
     "end_time": "2025-06-15T13:23:21.275203Z",
     "start_time": "2025-06-15T13:23:21.240999Z"
    }
   },
   "cell_type": "code",
   "source": "response_q4 = es_client.search(index=index_name, body=search_query_q4)",
   "id": "d33f55cfb685e494",
   "outputs": [],
   "execution_count": 21
  },
  {
   "metadata": {
    "ExecuteTime": {
     "end_time": "2025-06-15T13:23:24.715854Z",
     "start_time": "2025-06-15T13:23:24.712839Z"
    }
   },
   "cell_type": "code",
   "source": [
    "results_docs_q4_source = []\n",
    "\n",
    "for hit in response_q4['hits']['hits']:\n",
    "    results_docs_q4_source.append(hit['_source'])\n",
    "\n",
    "#results_docs_q4_source[2]\n",
    "print(results_docs_q4_source[2]['question'])"
   ],
   "id": "f274eab51468ab65",
   "outputs": [
    {
     "name": "stdout",
     "output_type": "stream",
     "text": [
      "How do I copy files from a different folder into docker container’s working directory?\n"
     ]
    }
   ],
   "execution_count": 22
  },
  {
   "metadata": {
    "ExecuteTime": {
     "end_time": "2025-06-15T13:37:39.588983Z",
     "start_time": "2025-06-15T13:37:39.586015Z"
    }
   },
   "cell_type": "code",
   "source": "# **Question5**",
   "id": "ff9d8fec3aa94170",
   "outputs": [],
   "execution_count": 42
  },
  {
   "metadata": {
    "ExecuteTime": {
     "end_time": "2025-06-15T13:25:07.041173Z",
     "start_time": "2025-06-15T13:25:06.998599Z"
    }
   },
   "cell_type": "code",
   "source": [
    "from openai import OpenAI\n",
    "\n",
    "# Define the path to your API key file\n",
    "# It's good practice to keep this file outside your project's version control (e.g., in .gitignore)\n",
    "api_key_file_path = \"openai_api_key.txt\" # Or a path like 'config/api_key.txt'\n",
    "\n",
    "api_key = None # Initialize api_key\n",
    "\n",
    "try:\n",
    "    with open(api_key_file_path, 'r') as f:\n",
    "        api_key = f.read().strip() # Read the key and remove any leading/trailing whitespace\n",
    "except FileNotFoundError:\n",
    "    print(f\"Warning: API key file not found at {api_key_file_path}. Checking environment variable instead.\")\n",
    "    # Fallback to environment variable if the file isn't found\n",
    "    api_key = os.environ.get(\"OPENAI_API_KEY\")\n",
    "except Exception as e:\n",
    "    raise IOError(f\"Error reading API key from file {api_key_file_path}: {e}\")\n",
    "\n",
    "# Check if the API key was found either from file or environment variable\n",
    "if api_key is None:\n",
    "    raise ValueError(\"OPENAI_API_KEY not found. Please set it in 'openai_api_key.txt' or as an environment variable.\")\n",
    "\n",
    "# Initialize the OpenAI client with the fetched key\n",
    "client = OpenAI(api_key=api_key)\n",
    "\n",
    "print(\"OpenAI client initialized.\")"
   ],
   "id": "17ebc7541344ce9",
   "outputs": [
    {
     "name": "stdout",
     "output_type": "stream",
     "text": [
      "OpenAI client initialized.\n"
     ]
    }
   ],
   "execution_count": 26
  },
  {
   "metadata": {
    "ExecuteTime": {
     "end_time": "2025-06-15T13:25:10.890360Z",
     "start_time": "2025-06-15T13:25:10.885953Z"
    }
   },
   "cell_type": "code",
   "source": [
    "def build_prompt(query, search_results):\n",
    "    prompt_template = \"\"\"\n",
    "You're a course teaching assistant. Answer the QUESTION based on the CONTEXT from the FAQ database.\n",
    "Use only the facts from the CONTEXT when answering the QUESTION.\n",
    "\n",
    "QUESTION: {question}\n",
    "\n",
    "CONTEXT:\n",
    "{context}\n",
    "\"\"\".strip()\n",
    "\n",
    "    context = \"\"\n",
    "\n",
    "    for doc in search_results:\n",
    "        context = context + f\"section: {doc['section']}\\nquestion: {doc['question']}\\nanswer: {doc['text']}\\n\\n\"\n",
    "\n",
    "    prompt = prompt_template.format(question=query, context=context).strip()\n",
    "    print(f\"The length of the prompt for question5 is {len(prompt)}\")\n",
    "    return prompt"
   ],
   "id": "12b06f2da249d2c1",
   "outputs": [],
   "execution_count": 27
  },
  {
   "metadata": {
    "ExecuteTime": {
     "end_time": "2025-06-15T13:25:13.779245Z",
     "start_time": "2025-06-15T13:25:13.775918Z"
    }
   },
   "cell_type": "code",
   "source": [
    "def llm(prompt):\n",
    "    response = client.chat.completions.create(\n",
    "        model='gpt-4o',\n",
    "        messages=[{\"role\": \"user\", \"content\": prompt}]\n",
    "    )\n",
    "\n",
    "    return response.choices[0].message.content"
   ],
   "id": "360cde5c3423217d",
   "outputs": [],
   "execution_count": 28
  },
  {
   "metadata": {
    "ExecuteTime": {
     "end_time": "2025-06-15T13:25:19.885868Z",
     "start_time": "2025-06-15T13:25:18.263414Z"
    }
   },
   "cell_type": "code",
   "source": [
    "    prompt = build_prompt (query_q4, results_docs_q4_source)\n",
    "    llm(prompt)"
   ],
   "id": "b78baef45e21fc4c",
   "outputs": [
    {
     "name": "stdout",
     "output_type": "stream",
     "text": [
      "The length of the prompt for question5 is 2424\n"
     ]
    },
    {
     "data": {
      "text/plain": [
       "'To copy a file to a Docker container, you can use the `docker cp` command. The basic syntax is as follows:\\n\\n```bash\\ndocker cp /path/to/local/file_or_directory <container_id>:/path/in/container\\n```\\n\\nThis command allows you to copy files from your local machine into a running Docker container.'"
      ]
     },
     "execution_count": 29,
     "metadata": {},
     "output_type": "execute_result"
    }
   ],
   "execution_count": 29
  },
  {
   "metadata": {
    "ExecuteTime": {
     "end_time": "2025-06-15T13:37:33.801107Z",
     "start_time": "2025-06-15T13:37:33.796326Z"
    }
   },
   "cell_type": "code",
   "source": "# **Question6**",
   "id": "35eaf9db1ef67f71",
   "outputs": [],
   "execution_count": 41
  },
  {
   "metadata": {
    "ExecuteTime": {
     "end_time": "2025-06-15T13:26:33.348450Z",
     "start_time": "2025-06-15T13:26:33.188726Z"
    }
   },
   "cell_type": "code",
   "source": [
    "import tiktoken\n",
    "encoding = tiktoken.encoding_for_model(\"gpt-4o\")\n",
    "\n",
    "# Encode the prompt to get the list of token IDs\n",
    "tokens = encoding.encode(prompt)\n",
    "\n",
    "# The number of tokens is the length of this list\n",
    "num_tokens = len(tokens)\n",
    "\n",
    "print(f\"The prompt has {num_tokens} tokens.\")"
   ],
   "id": "505d56f7cbd5ea6c",
   "outputs": [
    {
     "name": "stdout",
     "output_type": "stream",
     "text": [
      "The prompt has 538 tokens.\n"
     ]
    }
   ],
   "execution_count": 31
  }
 ],
 "metadata": {
  "kernelspec": {
   "display_name": "Python 3",
   "language": "python",
   "name": "python3"
  },
  "language_info": {
   "codemirror_mode": {
    "name": "ipython",
    "version": 2
   },
   "file_extension": ".py",
   "mimetype": "text/x-python",
   "name": "python",
   "nbconvert_exporter": "python",
   "pygments_lexer": "ipython2",
   "version": "2.7.6"
  }
 },
 "nbformat": 4,
 "nbformat_minor": 5
}
