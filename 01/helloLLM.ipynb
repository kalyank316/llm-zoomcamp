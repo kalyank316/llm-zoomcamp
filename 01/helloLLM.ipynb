{
 "cells": [
  {
   "cell_type": "code",
   "id": "initial_id",
   "metadata": {
    "collapsed": true
   },
   "source": [
    "import sys\n",
    "print(sys.executable)\n",
    "print(sys.version)"
   ],
   "outputs": [],
   "execution_count": null
  },
  {
   "metadata": {},
   "cell_type": "code",
   "source": "import openai",
   "id": "718796102056237",
   "outputs": [],
   "execution_count": null
  },
  {
   "metadata": {},
   "cell_type": "code",
   "source": "from openai import OpenAI",
   "id": "5157128704c238db",
   "outputs": [],
   "execution_count": null
  },
  {
   "metadata": {},
   "cell_type": "code",
   "source": "import os",
   "id": "36f6df38743fc726",
   "outputs": [],
   "execution_count": null
  },
  {
   "metadata": {},
   "cell_type": "code",
   "source": [
    "# Define the path to your API key file\n",
    "# It's good practice to keep this file outside your project's version control (e.g., in .gitignore)\n",
    "api_key_file_path = \"../openai_api_key.txt\"  # Or a path like 'config/api_key.txt'\n",
    "\n",
    "api_key = None # Initialize api_key\n",
    "\n",
    "try:\n",
    "    with open(api_key_file_path, 'r') as f:\n",
    "        api_key = f.read().strip() # Read the key and remove any leading/trailing whitespace\n",
    "except FileNotFoundError:\n",
    "    print(f\"Warning: API key file not found at {api_key_file_path}. Checking environment variable instead.\")\n",
    "    # Fallback to environment variable if the file isn't found\n",
    "    api_key = os.environ.get(\"OPENAI_API_KEY\")\n",
    "except Exception as e:\n",
    "    raise IOError(f\"Error reading API key from file {api_key_file_path}: {e}\")\n",
    "\n",
    "# Check if the API key was found either from file or environment variable\n",
    "if api_key is None:\n",
    "    raise ValueError(\"OPENAI_API_KEY not found. Please set it in 'openai_api_key.txt' or as an environment variable.\")\n",
    "\n",
    "# Initialize the OpenAI client with the fetched key\n",
    "client = OpenAI(api_key=api_key)\n",
    "\n",
    "print(\"OpenAI client initialized.\")"
   ],
   "id": "2ca1da636e39ab15",
   "outputs": [],
   "execution_count": null
  },
  {
   "metadata": {},
   "cell_type": "code",
   "source": "query = \"what is the current time?\"",
   "id": "8e08dac64e4f2706",
   "outputs": [],
   "execution_count": null
  },
  {
   "metadata": {},
   "cell_type": "code",
   "source": [
    "response = client.chat.completions.create(\n",
    "    model='gpt-4o',\n",
    "    messages=[{\"role\": \"user\", \"content\": query }]\n",
    ")"
   ],
   "id": "5fe8e3e5b816e07d",
   "outputs": [],
   "execution_count": null
  },
  {
   "metadata": {},
   "cell_type": "code",
   "source": "response.choices[0].message.content",
   "id": "198c76fb44e6b146",
   "outputs": [],
   "execution_count": null
  },
  {
   "metadata": {},
   "cell_type": "code",
   "source": "",
   "id": "5a8141da591d01bc",
   "outputs": [],
   "execution_count": null
  }
 ],
 "metadata": {
  "kernelspec": {
   "display_name": "Python 3",
   "language": "python",
   "name": "python3"
  },
  "language_info": {
   "codemirror_mode": {
    "name": "ipython",
    "version": 2
   },
   "file_extension": ".py",
   "mimetype": "text/x-python",
   "name": "python",
   "nbconvert_exporter": "python",
   "pygments_lexer": "ipython2",
   "version": "2.7.6"
  }
 },
 "nbformat": 4,
 "nbformat_minor": 5
}
