{
 "cells": [
  {
   "cell_type": "code",
   "id": "initial_id",
   "metadata": {
    "collapsed": true,
    "ExecuteTime": {
     "end_time": "2025-06-14T11:49:15.154247Z",
     "start_time": "2025-06-14T11:49:15.151731Z"
    }
   },
   "source": [
    "import sys\n",
    "print(sys.executable)\n",
    "print(sys.version)"
   ],
   "outputs": [
    {
     "name": "stdout",
     "output_type": "stream",
     "text": [
      "/opt/anaconda3/envs/llm-zoomcamp/bin/python\n",
      "3.12.11 | packaged by Anaconda, Inc. | (main, Jun  5 2025, 08:03:38) [Clang 14.0.6 ]\n"
     ]
    }
   ],
   "execution_count": 2
  },
  {
   "metadata": {
    "ExecuteTime": {
     "end_time": "2025-06-14T11:49:19.492669Z",
     "start_time": "2025-06-14T11:49:19.490524Z"
    }
   },
   "cell_type": "code",
   "source": "import openai",
   "id": "718796102056237",
   "outputs": [],
   "execution_count": 3
  },
  {
   "metadata": {
    "ExecuteTime": {
     "end_time": "2025-06-14T11:49:21.391494Z",
     "start_time": "2025-06-14T11:49:21.388364Z"
    }
   },
   "cell_type": "code",
   "source": "from openai import OpenAI",
   "id": "5157128704c238db",
   "outputs": [],
   "execution_count": 4
  },
  {
   "metadata": {
    "ExecuteTime": {
     "end_time": "2025-06-14T11:49:22.815719Z",
     "start_time": "2025-06-14T11:49:22.770841Z"
    }
   },
   "cell_type": "code",
   "source": "client = OpenAI (api_key = 'test')",
   "id": "2a08f72e081490c0",
   "outputs": [],
   "execution_count": 5
  },
  {
   "metadata": {
    "ExecuteTime": {
     "end_time": "2025-06-14T11:49:25.816660Z",
     "start_time": "2025-06-14T11:49:25.814101Z"
    }
   },
   "cell_type": "code",
   "source": "import os",
   "id": "36f6df38743fc726",
   "outputs": [],
   "execution_count": 6
  },
  {
   "metadata": {
    "ExecuteTime": {
     "end_time": "2025-06-14T11:49:26.602101Z",
     "start_time": "2025-06-14T11:49:26.596315Z"
    }
   },
   "cell_type": "code",
   "source": "os.environ",
   "id": "6c9931d6fa8d29fd",
   "outputs": [
    {
     "data": {
      "text/plain": [
       "environ{'CONDA_PROMPT_MODIFIER': '(llm-zoomcamp) ',\n",
       "        'GSETTINGS_SCHEMA_DIR_CONDA_BACKUP': '',\n",
       "        'COMMAND_MODE': 'unix2003',\n",
       "        'SHLVL': '1',\n",
       "        'PYTHONUNBUFFERED': '1',\n",
       "        'SHELL': '/bin/zsh',\n",
       "        'PYTHONPATH': '/Users/kalyankumar/PycharmProjects/llm-zoomcamp:/Applications/PyCharm.app/Contents/plugins/python-ce/helpers/pydev:/Applications/PyCharm.app/Contents/plugins/python-ce/helpers/jupyter_debug',\n",
       "        '__CFBundleIdentifier': 'com.anaconda.io',\n",
       "        'CONDA_ROOT': '/opt/anaconda3',\n",
       "        'LC_ALL': 'en_US.UTF-8',\n",
       "        'TMPDIR': '/var/folders/8s/ld2vf15n3hn6j3w45mft5y440000gn/T/',\n",
       "        'PYTHONIOENCODING': 'UTF-8',\n",
       "        'HOME': '/Users/kalyankumar',\n",
       "        'GSETTINGS_SCHEMA_DIR': '/opt/anaconda3/share/glib-2.0/schemas',\n",
       "        'CONDA_PREFIX': '/opt/anaconda3/envs/llm-zoomcamp',\n",
       "        'PATH': '/opt/anaconda3/envs/llm-zoomcamp/bin:/opt/anaconda3/condabin:/usr/bin:/bin:/usr/sbin:/sbin',\n",
       "        'LOGNAME': 'kalyankumar',\n",
       "        'EVENT_NOKQUEUE': '1',\n",
       "        'XPC_FLAGS': '0x0',\n",
       "        '__CF_USER_TEXT_ENCODING': '0x1F5:0x0:0x0',\n",
       "        '_CE_CONDA': '',\n",
       "        'LANG': 'en_US.UTF-8',\n",
       "        '_CE_M': '',\n",
       "        'LC_CTYPE': 'C.UTF-8',\n",
       "        'LANGUAGE': '',\n",
       "        'ANACONDA_NAVIGATOR_VERSION': '2.6.6',\n",
       "        'CONDA_SHLVL': '2',\n",
       "        'CONDA_EXE': '/opt/anaconda3/bin/conda',\n",
       "        'SSH_AUTH_SOCK': '/private/tmp/com.apple.launchd.hrnRUK6asS/Listeners',\n",
       "        'CONDA_DEFAULT_ENV': 'llm-zoomcamp',\n",
       "        'XPC_SERVICE_NAME': '0',\n",
       "        'USER': 'kalyankumar',\n",
       "        'PWD': '/Users/kalyankumar',\n",
       "        '_': '/Applications/PyCharm.app/Contents/MacOS/pycharm',\n",
       "        'CONDA_PYTHON_EXE': '/opt/anaconda3/bin/python',\n",
       "        'JPY_SESSION_NAME': 'helloLLM.ipynb',\n",
       "        'JPY_PARENT_PID': '32082',\n",
       "        'PYDEVD_USE_FRAME_EVAL': 'NO',\n",
       "        'TERM': 'xterm-color',\n",
       "        'CLICOLOR': '1',\n",
       "        'FORCE_COLOR': '1',\n",
       "        'CLICOLOR_FORCE': '1',\n",
       "        'PAGER': 'cat',\n",
       "        'GIT_PAGER': 'cat',\n",
       "        'MPLBACKEND': 'module://matplotlib_inline.backend_inline'}"
      ]
     },
     "execution_count": 7,
     "metadata": {},
     "output_type": "execute_result"
    }
   ],
   "execution_count": 7
  },
  {
   "metadata": {
    "ExecuteTime": {
     "end_time": "2025-06-14T11:49:30.013220Z",
     "start_time": "2025-06-14T11:49:28.584484Z"
    }
   },
   "cell_type": "code",
   "source": [
    "response = client.chat.completions.create(\n",
    "    model='gpt-4o',\n",
    "    messages=[{\"role\": \"user\", \"content\": \"is it too late to join the course?\" }]\n",
    ")"
   ],
   "id": "5fe8e3e5b816e07d",
   "outputs": [],
   "execution_count": 8
  },
  {
   "metadata": {
    "ExecuteTime": {
     "end_time": "2025-06-14T11:49:31.477307Z",
     "start_time": "2025-06-14T11:49:31.473474Z"
    }
   },
   "cell_type": "code",
   "source": "response.choices[0].message.content",
   "id": "198c76fb44e6b146",
   "outputs": [
    {
     "data": {
      "text/plain": [
       "\"I'm sorry, but I would need more context to provide a helpful answer. Could you provide more details about the course you're referring to, such as its start date, registration deadlines, or any specific requirements?\""
      ]
     },
     "execution_count": 9,
     "metadata": {},
     "output_type": "execute_result"
    }
   ],
   "execution_count": 9
  },
  {
   "metadata": {},
   "cell_type": "code",
   "outputs": [],
   "execution_count": null,
   "source": "",
   "id": "5a8141da591d01bc"
  }
 ],
 "metadata": {
  "kernelspec": {
   "display_name": "Python 3",
   "language": "python",
   "name": "python3"
  },
  "language_info": {
   "codemirror_mode": {
    "name": "ipython",
    "version": 2
   },
   "file_extension": ".py",
   "mimetype": "text/x-python",
   "name": "python",
   "nbconvert_exporter": "python",
   "pygments_lexer": "ipython2",
   "version": "2.7.6"
  }
 },
 "nbformat": 4,
 "nbformat_minor": 5
}
